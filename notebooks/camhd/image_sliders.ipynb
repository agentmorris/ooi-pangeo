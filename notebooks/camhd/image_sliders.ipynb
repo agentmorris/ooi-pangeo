{
 "cells": [
  {
   "cell_type": "markdown",
   "metadata": {},
   "source": [
    "# Image Sliders\n",
    "\n",
    "This page shows an example of using widgets to interact with CamHD video data. Scroll through nearly a half-billion frames with ease!"
   ]
  },
  {
   "cell_type": "markdown",
   "metadata": {},
   "source": [
    "## Setup environment"
   ]
  },
  {
   "cell_type": "code",
   "execution_count": null,
   "metadata": {},
   "outputs": [],
   "source": [
    "%matplotlib inline\n",
    "%config InlineBackend.figure_format = 'svg'\n",
    "import pycamhd as camhd\n",
    "import numpy as np\n",
    "import pandas as pd\n",
    "import matplotlib.pyplot as plt"
   ]
  },
  {
   "cell_type": "markdown",
   "metadata": {},
   "source": [
    "## Get a list of remote CamHD files to process"
   ]
  },
  {
   "cell_type": "code",
   "execution_count": null,
   "metadata": {},
   "outputs": [],
   "source": [
    "dbcamhd = pd.read_json('dbcamhd.json', orient=\"records\", lines=True)\n",
    "dbcamhd.tail()"
   ]
  },
  {
   "cell_type": "code",
   "execution_count": null,
   "metadata": {},
   "outputs": [],
   "source": [
    "print(\"Total files: %i\" % len(dbcamhd))\n",
    "print(\"Total frames: %i\" % dbcamhd.frame_count.sum())"
   ]
  },
  {
   "cell_type": "markdown",
   "metadata": {},
   "source": [
    "## Define plotting function"
   ]
  },
  {
   "cell_type": "code",
   "execution_count": null,
   "metadata": {},
   "outputs": [],
   "source": [
    "def show_image(file_number, frame_number):\n",
    "    filename = dbcamhd.blob_url[file_number]\n",
    "    plt.rc('figure', figsize=(10, 5))\n",
    "    plt.rcParams.update({'font.size': 8})\n",
    "    frame = camhd.get_frame(filename, frame_number, 'rgb24')\n",
    "    fig, ax = plt.subplots();\n",
    "    im1 = ax.imshow(frame);\n",
    "    plt.yticks(np.arange(0,1081,270))\n",
    "    plt.xticks(np.arange(0,1921,480))\n",
    "    plt.title('Deployment: %s    File: %s    Frame: %s' % (dbcamhd.deployment[file_number], \n",
    "                                                           filename.split('/')[4], frame_number));"
   ]
  },
  {
   "cell_type": "markdown",
   "metadata": {},
   "source": [
    "## Interact using ipywidgets"
   ]
  },
  {
   "cell_type": "code",
   "execution_count": null,
   "metadata": {},
   "outputs": [],
   "source": [
    "from ipywidgets import interact\n",
    "from ipywidgets import IntSlider\n",
    "initial_file = 7000\n",
    "initial_frame = 8060\n",
    "file_slider = IntSlider(min=200, max=len(dbcamhd)-1, step=1, value=initial_file, continuous_update=False)\n",
    "frame_slider = IntSlider(min=0, max=dbcamhd.frame_count[initial_file], step=1, value=initial_frame, continuous_update=False)\n",
    "\n",
    "def update_range(*args):\n",
    "    frame_slider.max = dbcamhd.frame_count[file_slider.value]-1\n",
    "    if frame_slider.value > frame_slider.max:\n",
    "        frame_slider.value = frame_slider.max\n",
    "file_slider.observe(update_range, 'value')\n",
    "\n",
    "interact(show_image, file_number=file_slider, frame_number=frame_slider);"
   ]
  },
  {
   "cell_type": "markdown",
   "metadata": {},
   "source": [
    "## References\n",
    "\n",
    " - [PyCamHD](https://github.com/tjcrone/pycamhd)\n",
    " - [CamHD Raw Data Archive](https://rawdata.oceanobservatories.org/files/RS03ASHS/PN03B/06-CAMHDA301)\n",
    " - [ipywidgets](https://ipywidgets.readthedocs.io/en/latest/)"
   ]
  }
 ],
 "metadata": {
  "kernelspec": {
   "display_name": "Python 3",
   "language": "python",
   "name": "python3"
  },
  "language_info": {
   "codemirror_mode": {
    "name": "ipython",
    "version": 3
   },
   "file_extension": ".py",
   "mimetype": "text/x-python",
   "name": "python",
   "nbconvert_exporter": "python",
   "pygments_lexer": "ipython3",
   "version": "3.7.3"
  }
 },
 "nbformat": 4,
 "nbformat_minor": 4
}

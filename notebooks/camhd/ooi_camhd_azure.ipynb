{
 "cells": [
  {
   "cell_type": "markdown",
   "metadata": {},
   "source": [
    "# OOI Seafloor Camera Open Datasets Example\n",
    "This is a simple Jupyter notebook showing how to load video data from the [OOI Seafloor Camera](https://oceanobservatories.org/instrument-class/camhd/) system deployed at Axial Volcano on the Juan de Fuca Ridge. These data are hosted on Microsoft's [Azure Open Datasets](https://azure.microsoft.com/en-us/services/open-datasets/)."
   ]
  },
  {
   "cell_type": "markdown",
   "metadata": {},
   "source": [
    "## Import some required packages\n",
    "All of these should be available through Conda on the conda-forge channel."
   ]
  },
  {
   "cell_type": "code",
   "execution_count": 1,
   "metadata": {},
   "outputs": [],
   "source": [
    "import numpy as np\n",
    "import pycamhd as camhd\n",
    "import pandas as pd\n",
    "import fsspec\n",
    "import matplotlib.pyplot as plt\n",
    "from ipywidgets import interact\n",
    "from ipywidgets import IntSlider"
   ]
  },
  {
   "cell_type": "markdown",
   "metadata": {},
   "source": [
    "## Load the JSON file that lists all available video files\n",
    "This file has useful information about each file in Azure Open Datasets, such as the Unix timestamp of the first video frame and the total number of frames in each video."
   ]
  },
  {
   "cell_type": "code",
   "execution_count": 2,
   "metadata": {},
   "outputs": [
    {
     "data": {
      "text/html": [
       "<div>\n",
       "<style scoped>\n",
       "    .dataframe tbody tr th:only-of-type {\n",
       "        vertical-align: middle;\n",
       "    }\n",
       "\n",
       "    .dataframe tbody tr th {\n",
       "        vertical-align: top;\n",
       "    }\n",
       "\n",
       "    .dataframe thead th {\n",
       "        text-align: right;\n",
       "    }\n",
       "</style>\n",
       "<table border=\"1\" class=\"dataframe\">\n",
       "  <thead>\n",
       "    <tr style=\"text-align: right;\">\n",
       "      <th></th>\n",
       "      <th>name</th>\n",
       "      <th>url</th>\n",
       "      <th>filesize</th>\n",
       "      <th>md5</th>\n",
       "      <th>moov</th>\n",
       "      <th>timestamp</th>\n",
       "      <th>deployment</th>\n",
       "      <th>frame_count</th>\n",
       "    </tr>\n",
       "  </thead>\n",
       "  <tbody>\n",
       "    <tr>\n",
       "      <th>16935</th>\n",
       "      <td>CAMHDA301-20200906T001500.mov</td>\n",
       "      <td>https://ooiopendata.blob.core.windows.net/camh...</td>\n",
       "      <td>15442329475</td>\n",
       "      <td>d25486f5d6f0f1611c8a6577f1fa9435</td>\n",
       "      <td>True</td>\n",
       "      <td>1599350410</td>\n",
       "      <td>7</td>\n",
       "      <td>26708</td>\n",
       "    </tr>\n",
       "    <tr>\n",
       "      <th>16936</th>\n",
       "      <td>CAMHDA301-20200906T031500.mov</td>\n",
       "      <td>https://ooiopendata.blob.core.windows.net/camh...</td>\n",
       "      <td>15449260579</td>\n",
       "      <td>7a3c09abda5bcdd9aef3dc186450b8e2</td>\n",
       "      <td>True</td>\n",
       "      <td>1599361211</td>\n",
       "      <td>7</td>\n",
       "      <td>26738</td>\n",
       "    </tr>\n",
       "    <tr>\n",
       "      <th>16937</th>\n",
       "      <td>CAMHDA301-20200906T061500.mov</td>\n",
       "      <td>https://ooiopendata.blob.core.windows.net/camh...</td>\n",
       "      <td>15552082455</td>\n",
       "      <td>b481471f03eb5b1f1500751ff30e9397</td>\n",
       "      <td>True</td>\n",
       "      <td>1599372010</td>\n",
       "      <td>7</td>\n",
       "      <td>26709</td>\n",
       "    </tr>\n",
       "    <tr>\n",
       "      <th>16938</th>\n",
       "      <td>CAMHDA301-20200906T091500.mov</td>\n",
       "      <td>https://ooiopendata.blob.core.windows.net/camh...</td>\n",
       "      <td>15482894883</td>\n",
       "      <td>5ae6cfbc09ebca9a6788b8a2d830ca92</td>\n",
       "      <td>True</td>\n",
       "      <td>1599382810</td>\n",
       "      <td>7</td>\n",
       "      <td>26738</td>\n",
       "    </tr>\n",
       "    <tr>\n",
       "      <th>16939</th>\n",
       "      <td>CAMHDA301-20200906T121500.mov</td>\n",
       "      <td>https://ooiopendata.blob.core.windows.net/camh...</td>\n",
       "      <td>15512083839</td>\n",
       "      <td>9fbdc5ec2655aa3b035a9b6b4a387754</td>\n",
       "      <td>True</td>\n",
       "      <td>1599393610</td>\n",
       "      <td>7</td>\n",
       "      <td>26723</td>\n",
       "    </tr>\n",
       "  </tbody>\n",
       "</table>\n",
       "</div>"
      ],
      "text/plain": [
       "                                name  \\\n",
       "16935  CAMHDA301-20200906T001500.mov   \n",
       "16936  CAMHDA301-20200906T031500.mov   \n",
       "16937  CAMHDA301-20200906T061500.mov   \n",
       "16938  CAMHDA301-20200906T091500.mov   \n",
       "16939  CAMHDA301-20200906T121500.mov   \n",
       "\n",
       "                                                     url     filesize  \\\n",
       "16935  https://ooiopendata.blob.core.windows.net/camh...  15442329475   \n",
       "16936  https://ooiopendata.blob.core.windows.net/camh...  15449260579   \n",
       "16937  https://ooiopendata.blob.core.windows.net/camh...  15552082455   \n",
       "16938  https://ooiopendata.blob.core.windows.net/camh...  15482894883   \n",
       "16939  https://ooiopendata.blob.core.windows.net/camh...  15512083839   \n",
       "\n",
       "                                    md5  moov   timestamp  deployment  \\\n",
       "16935  d25486f5d6f0f1611c8a6577f1fa9435  True  1599350410           7   \n",
       "16936  7a3c09abda5bcdd9aef3dc186450b8e2  True  1599361211           7   \n",
       "16937  b481471f03eb5b1f1500751ff30e9397  True  1599372010           7   \n",
       "16938  5ae6cfbc09ebca9a6788b8a2d830ca92  True  1599382810           7   \n",
       "16939  9fbdc5ec2655aa3b035a9b6b4a387754  True  1599393610           7   \n",
       "\n",
       "       frame_count  \n",
       "16935        26708  \n",
       "16936        26738  \n",
       "16937        26709  \n",
       "16938        26738  \n",
       "16939        26723  "
      ]
     },
     "execution_count": 2,
     "metadata": {},
     "output_type": "execute_result"
    }
   ],
   "source": [
    "dbcamhd_url = 'https://ooiopendata.blob.core.windows.net/camhd/dbcamhd.json'\n",
    "with fsspec.open(dbcamhd_url) as f:\n",
    "    dbcamhd = pd.read_json(f, orient=\"records\", lines=True)\n",
    "dbcamhd.tail()"
   ]
  },
  {
   "cell_type": "markdown",
   "metadata": {},
   "source": [
    "## Choose a file to work with\n",
    "Here we choose a file from \"Deployment 4\" which happened in 2017."
   ]
  },
  {
   "cell_type": "code",
   "execution_count": 3,
   "metadata": {},
   "outputs": [
    {
     "data": {
      "text/plain": [
       "name                               CAMHDA301-20170920T181500.mov\n",
       "url            https://ooiopendata.blob.core.windows.net/camh...\n",
       "filesize                                             15250813073\n",
       "md5                             eaadcc47dcaf8c7a94bb5b9708179db8\n",
       "moov                                                        True\n",
       "timestamp                                             1505930402\n",
       "deployment                                                     4\n",
       "frame_count                                                26953\n",
       "Name: 7000, dtype: object"
      ]
     },
     "execution_count": 3,
     "metadata": {},
     "output_type": "execute_result"
    }
   ],
   "source": [
    "mov = dbcamhd.iloc[7000]\n",
    "mov"
   ]
  },
  {
   "cell_type": "markdown",
   "metadata": {},
   "source": [
    "## Show a single video frame\n",
    "We include a slider which allows any frame from this video to be shown."
   ]
  },
  {
   "cell_type": "code",
   "execution_count": 4,
   "metadata": {},
   "outputs": [],
   "source": [
    "def show_image(frame_number):\n",
    "    plt.rc('figure', figsize=(12, 6))\n",
    "    plt.rcParams.update({'font.size': 8})\n",
    "    frame = camhd.get_frame(mov.url, frame_number)\n",
    "    fig, ax = plt.subplots();\n",
    "    im1 = ax.imshow(frame);\n",
    "    plt.yticks(np.arange(0,1081,270))\n",
    "    plt.xticks(np.arange(0,1921,480))\n",
    "    plt.title('Deployment: %s    File: %s    Frame: %s' % (mov.deployment, mov['name'], frame_number));"
   ]
  },
  {
   "cell_type": "code",
   "execution_count": 6,
   "metadata": {},
   "outputs": [
    {
     "data": {
      "application/vnd.jupyter.widget-view+json": {
       "model_id": "9afcedf90c274fc4948c5a57921d996b",
       "version_major": 2,
       "version_minor": 0
      },
      "text/plain": [
       "interactive(children=(IntSlider(value=8060, continuous_update=False, description='frame_number', max=26952), O…"
      ]
     },
     "metadata": {},
     "output_type": "display_data"
    }
   ],
   "source": [
    "%matplotlib inline\n",
    "%config InlineBackend.figure_format = 'svg'\n",
    "initial_frame = 8060\n",
    "frame_slider = IntSlider(min=0, max=mov.frame_count-1, step=1, value=initial_frame, continuous_update=False)\n",
    "interact(show_image, frame_number=frame_slider);"
   ]
  }
 ],
 "metadata": {
  "kernelspec": {
   "display_name": "Python 3",
   "language": "python",
   "name": "python3"
  },
  "language_info": {
   "codemirror_mode": {
    "name": "ipython",
    "version": 3
   },
   "file_extension": ".py",
   "mimetype": "text/x-python",
   "name": "python",
   "nbconvert_exporter": "python",
   "pygments_lexer": "ipython3",
   "version": "3.7.6"
  }
 },
 "nbformat": 4,
 "nbformat_minor": 4
}

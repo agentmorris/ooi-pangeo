{
 "cells": [
  {
   "cell_type": "markdown",
   "metadata": {},
   "source": [
    "# dbCamHD\n",
    "\n",
    "This notebook loads (or creates) a metadata database for the CamHD data and plots some statistics."
   ]
  },
  {
   "cell_type": "markdown",
   "metadata": {},
   "source": [
    "## Setup environment\n",
    "Do these everytime running this notebook."
   ]
  },
  {
   "cell_type": "code",
   "execution_count": null,
   "metadata": {},
   "outputs": [],
   "source": [
    "%matplotlib inline\n",
    "import pycamhd as camhd\n",
    "import numpy as np\n",
    "import pandas as pd\n",
    "import ooiod\n",
    "import requests\n",
    "import dask\n",
    "from dask import delayed"
   ]
  },
  {
   "cell_type": "markdown",
   "metadata": {},
   "source": [
    "## Starting from local JSON file\n",
    "Here we load the dbcamhd.json file that contains the results from the cells near the bottom of this notebook."
   ]
  },
  {
   "cell_type": "code",
   "execution_count": null,
   "metadata": {},
   "outputs": [],
   "source": [
    "dbcamhd = pd.read_json('dbcamhd.json', orient=\"records\", lines=True)"
   ]
  },
  {
   "cell_type": "code",
   "execution_count": null,
   "metadata": {},
   "outputs": [],
   "source": [
    "dbcamhd.tail()"
   ]
  },
  {
   "cell_type": "markdown",
   "metadata": {},
   "source": [
    "### Calculate the total number of frames\n",
    "There are currently almost a half-billion video frames."
   ]
  },
  {
   "cell_type": "code",
   "execution_count": null,
   "metadata": {},
   "outputs": [],
   "source": [
    "dbcamhd['frame_count'].sum()"
   ]
  },
  {
   "cell_type": "markdown",
   "metadata": {},
   "source": [
    "### Plot histogram of MOV sizes"
   ]
  },
  {
   "cell_type": "code",
   "execution_count": null,
   "metadata": {},
   "outputs": [],
   "source": [
    "import holoviews as hv\n",
    "hv.extension('bokeh')\n",
    "from bokeh.plotting import figure, show\n",
    "\n",
    "frequencies, edges = np.histogram(dbcamhd['blob_size']/1024/1024/1024, bins=np.linspace(0,20,100))\n",
    "\n",
    "p = figure(title=\"MOV Size Distribution\")\n",
    "p.quad(top=frequencies, bottom=0, left=edges[:-1], right=edges[1:], fill_color=\"blue\", line_color=\"black\")\n",
    "p.xaxis.axis_label = 'Filesize (GB)'\n",
    "p.yaxis.axis_label = 'N'\n",
    "show(p)"
   ]
  },
  {
   "cell_type": "markdown",
   "metadata": {},
   "source": [
    "### Plot histogram of frame counts"
   ]
  },
  {
   "cell_type": "code",
   "execution_count": null,
   "metadata": {},
   "outputs": [],
   "source": [
    "frequencies, edges = np.histogram(dbcamhd['frame_count'], bins=np.linspace(0,50000,100))\n",
    "\n",
    "p = figure(title=\"MOV Frame Count Distribution\")\n",
    "p.quad(top=frequencies, bottom=0, left=edges[:-1], right=edges[1:], fill_color=\"blue\", line_color=\"black\")\n",
    "p.xaxis.axis_label = 'Frame Count'\n",
    "p.yaxis.axis_label = 'N'\n",
    "show(p)"
   ]
  },
  {
   "cell_type": "markdown",
   "metadata": {},
   "source": [
    "### Plot subset of frame_counts by date"
   ]
  },
  {
   "cell_type": "code",
   "execution_count": null,
   "metadata": {},
   "outputs": [],
   "source": [
    "p = figure(x_axis_type='datetime', y_range=(0, 30000))\n",
    "min_t = 1400000000\n",
    "\n",
    "dates = pd.to_datetime(dbcamhd['timestamp'][dbcamhd.timestamp>min_t],unit='s')\n",
    "frame_count = dbcamhd['frame_count'][dbcamhd.timestamp>min_t]\n",
    "\n",
    "p.circle(dates, frame_count, size=1)\n",
    "p.xaxis.axis_label = 'Date'\n",
    "p.yaxis.axis_label = 'Frame Count'\n",
    "show(p)"
   ]
  },
  {
   "cell_type": "markdown",
   "metadata": {},
   "source": [
    "## Starting from scratch\n",
    "Example code showing how the database above was built. Since dbcamhd.json has been built, it is not normally necessary to run these cells. They can take a very long time without a large Dask worker cluster."
   ]
  },
  {
   "cell_type": "markdown",
   "metadata": {},
   "source": [
    "### Start Dask cluster using Jupyterlab extension\n",
    "Use the new Jupyterlab Dask extension buttons!"
   ]
  },
  {
   "cell_type": "code",
   "execution_count": null,
   "metadata": {},
   "outputs": [],
   "source": [
    "client"
   ]
  },
  {
   "cell_type": "markdown",
   "metadata": {},
   "source": [
    "### Get a list of files from the server"
   ]
  },
  {
   "cell_type": "code",
   "execution_count": null,
   "metadata": {},
   "outputs": [],
   "source": [
    "%%time\n",
    "blob_urls = ooiod.blobs.list_blobs('ooiopendata', 'camhd')"
   ]
  },
  {
   "cell_type": "code",
   "execution_count": null,
   "metadata": {},
   "outputs": [],
   "source": [
    "blob_urls[0:5]"
   ]
  },
  {
   "cell_type": "markdown",
   "metadata": {},
   "source": [
    "### Get file sizes"
   ]
  },
  {
   "cell_type": "code",
   "execution_count": null,
   "metadata": {},
   "outputs": [],
   "source": [
    "def get_blob_size(blob_url):\n",
    "    try:\n",
    "        header = requests.head(blob_url)\n",
    "        blob_size = header.headers.get('Content-Length')\n",
    "        return blob_size\n",
    "    except:\n",
    "        return None"
   ]
  },
  {
   "cell_type": "code",
   "execution_count": null,
   "metadata": {},
   "outputs": [],
   "source": [
    "blob_sizes_delayed = []\n",
    "for blob_url in blob_urls:\n",
    "    blob_sizes_delayed.append(delayed(get_blob_size)(blob_url))"
   ]
  },
  {
   "cell_type": "code",
   "execution_count": null,
   "metadata": {},
   "outputs": [],
   "source": [
    "%%time\n",
    "blob_sizes = dask.compute(*blob_sizes_delayed)"
   ]
  },
  {
   "cell_type": "markdown",
   "metadata": {},
   "source": [
    "### Create a Pandas dataframe from these Lists"
   ]
  },
  {
   "cell_type": "code",
   "execution_count": null,
   "metadata": {},
   "outputs": [],
   "source": [
    "dbcamhd = pd.DataFrame(\n",
    "    {'blob_url': blob_urls,\n",
    "     'blob_size': blob_sizes,\n",
    "    })\n",
    "dbcamhd.tail()"
   ]
  },
  {
   "cell_type": "markdown",
   "metadata": {},
   "source": [
    "### Get file timestamps and frame counts"
   ]
  },
  {
   "cell_type": "code",
   "execution_count": null,
   "metadata": {},
   "outputs": [],
   "source": [
    "def get_file_info_delayed(blob_url):\n",
    "    try:\n",
    "        moov_atom = camhd.get_moov_atom(blob_url)\n",
    "        timestamp = camhd.get_timestamp(blob_url, moov_atom)\n",
    "        frame_count = camhd.get_frame_count(blob_url, moov_atom)\n",
    "    except:\n",
    "        timestamp = False\n",
    "        frame_count = False\n",
    "    return (timestamp, frame_count)"
   ]
  },
  {
   "cell_type": "code",
   "execution_count": null,
   "metadata": {},
   "outputs": [],
   "source": [
    "delayed_file_info = []\n",
    "for blob_url in blob_urls:\n",
    "    delayed_file_info.append(delayed(get_file_info_delayed)(blob_url))   "
   ]
  },
  {
   "cell_type": "code",
   "execution_count": null,
   "metadata": {},
   "outputs": [],
   "source": [
    "%%time\n",
    "file_info = dask.compute(*delayed_file_info)"
   ]
  },
  {
   "cell_type": "markdown",
   "metadata": {},
   "source": [
    "### Add these to the dbcamhd dataframe"
   ]
  },
  {
   "cell_type": "code",
   "execution_count": null,
   "metadata": {},
   "outputs": [],
   "source": [
    "#dbcamhd['moov'] = pd.Series(moov, index=dbcamhd.index)\n",
    "dbcamhd['timestamp'] = pd.Series([i[0] for i in file_info], index=dbcamhd.index)\n",
    "dbcamhd['frame_count'] = pd.Series([i[1] for i in file_info], index=dbcamhd.index)\n",
    "dbcamhd.tail()"
   ]
  },
  {
   "cell_type": "markdown",
   "metadata": {},
   "source": [
    "### Save dataframe to JSON file"
   ]
  },
  {
   "cell_type": "code",
   "execution_count": null,
   "metadata": {},
   "outputs": [],
   "source": [
    "dbcamhd.to_json('dbcamhd.json', orient=\"records\", lines=True)"
   ]
  },
  {
   "cell_type": "markdown",
   "metadata": {},
   "source": [
    "### Add deployment numbers to database\n",
    "\n",
    "See the [asset management](https://github.com/ooi-integration/asset-management/blob/master/deployment/RS03ASHS_Deploy.csv) page for deployment information."
   ]
  },
  {
   "cell_type": "code",
   "execution_count": null,
   "metadata": {},
   "outputs": [],
   "source": [
    "import pandas as pd"
   ]
  },
  {
   "cell_type": "code",
   "execution_count": null,
   "metadata": {},
   "outputs": [],
   "source": [
    "dbcamhd = pd.read_json('dbcamhd.json', orient=\"records\", lines=True)\n",
    "dbcamhd.blob_url[0]"
   ]
  },
  {
   "cell_type": "code",
   "execution_count": null,
   "metadata": {},
   "outputs": [],
   "source": [
    "dbcamhd.tail()"
   ]
  },
  {
   "cell_type": "code",
   "execution_count": null,
   "metadata": {},
   "outputs": [],
   "source": [
    "dt = pd.to_datetime(dbcamhd.timestamp, unit='s')\n",
    "dbcamhd['deployment'] = dbcamhd.timestamp*0\n",
    "dbcamhd.loc[dt < '2016-07-26 21:18:00', 'deployment'] = 2\n",
    "dbcamhd.loc[dt >= '2016-07-26 21:18:00', 'deployment'] = 3\n",
    "dbcamhd.loc[dt >= '2017-08-14 06:00:00', 'deployment'] = 4\n",
    "dbcamhd.loc[dt >= '2018-07-04 00:00:00', 'deployment'] = 5\n",
    "dbcamhd.loc[dt >= '2019-06-16 22:02:00', 'deployment'] = 6"
   ]
  },
  {
   "cell_type": "code",
   "execution_count": null,
   "metadata": {},
   "outputs": [],
   "source": [
    "dbcamhd.tail()"
   ]
  },
  {
   "cell_type": "code",
   "execution_count": null,
   "metadata": {},
   "outputs": [],
   "source": [
    "dbcamhd.to_json('dbcamhd.json', orient=\"records\", lines=True)"
   ]
  },
  {
   "cell_type": "markdown",
   "metadata": {},
   "source": [
    "## References\n",
    "\n",
    "https://github.com/tjcrone/pycamhd<br>\n",
    "https://rawdata.oceanobservatories.org/files/RS03ASHS/PN03B/06-CAMHDA301/<br>\n",
    "https://pandas.pydata.org/"
   ]
  }
 ],
 "metadata": {
  "kernelspec": {
   "display_name": "Python 3",
   "language": "python",
   "name": "python3"
  },
  "language_info": {
   "codemirror_mode": {
    "name": "ipython",
    "version": 3
   },
   "file_extension": ".py",
   "mimetype": "text/x-python",
   "name": "python",
   "nbconvert_exporter": "python",
   "pygments_lexer": "ipython3",
   "version": "3.7.3"
  }
 },
 "nbformat": 4,
 "nbformat_minor": 4
}
